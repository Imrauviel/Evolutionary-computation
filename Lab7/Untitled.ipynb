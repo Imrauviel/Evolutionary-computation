{
 "cells": [
  {
   "cell_type": "code",
   "execution_count": 1,
   "id": "34e803c6",
   "metadata": {
    "ExecuteTime": {
     "end_time": "2022-12-10T13:27:26.388834Z",
     "start_time": "2022-12-10T13:27:24.027250Z"
    }
   },
   "outputs": [],
   "source": [
    "import pandas as pd\n",
    "import random\n",
    "import numpy as np\n",
    "from scipy.spatial import distance_matrix\n",
    "import itertools\n",
    "import copy\n",
    "import time"
   ]
  },
  {
   "cell_type": "code",
   "execution_count": 2,
   "id": "d5b0cc15",
   "metadata": {
    "ExecuteTime": {
     "end_time": "2022-12-10T13:27:26.404786Z",
     "start_time": "2022-12-10T13:27:26.389751Z"
    }
   },
   "outputs": [],
   "source": [
    "def generate_dm(df, show=True):\n",
    "    temp = df[[0, 1]].to_numpy()\n",
    "    dm = distance_matrix(temp, temp)\n",
    "\n",
    "    temp = df[2].to_numpy() // 2\n",
    "    temp = temp * np.ones((200, 200))\n",
    "    dm = dm + temp + temp.T\n",
    "    dm = dm // 1\n",
    "\n",
    "    for i in range(200):\n",
    "        dm[i][i] = np.inf\n",
    "\n",
    "    if show:\n",
    "        df_dist = pd.DataFrame(dm)\n",
    "        # display(df_dist)\n",
    "    return dm\n",
    "\n",
    "\n",
    "def get_random_solution():\n",
    "    return random.sample([i for i in range(0, 200)], 100)\n",
    "\n",
    "\n",
    "def calulate_total_cost(path, dm):\n",
    "    total = 0\n",
    "    nr = len(path)\n",
    "    for idx, node in enumerate(path):\n",
    "        total += dm[node][path[(idx + 1) % nr]]\n",
    "    return total"
   ]
  },
  {
   "cell_type": "code",
   "execution_count": 3,
   "id": "332a79d6",
   "metadata": {
    "ExecuteTime": {
     "end_time": "2022-12-10T13:27:26.436122Z",
     "start_time": "2022-12-10T13:27:26.405751Z"
    }
   },
   "outputs": [],
   "source": [
    "tsp = pd.read_csv('TSPC.csv', sep=';', header=None)"
   ]
  },
  {
   "cell_type": "code",
   "execution_count": 149,
   "id": "1d15ec43",
   "metadata": {
    "ExecuteTime": {
     "end_time": "2022-12-10T15:55:23.088529Z",
     "start_time": "2022-12-10T15:55:23.069559Z"
    }
   },
   "outputs": [],
   "source": [
    "def calc_sub_path_cost(sub_path, dm):\n",
    "    total = 0\n",
    "    for idx, node in enumerate(sub_path[:-1]):\n",
    "        total += dm[node][sub_path[idx+1]]\n",
    "    return total\n",
    "\n",
    "def destroy(path, total_cost, m=5, to_remove=20):\n",
    "\n",
    "    sub_paths = []\n",
    "    total = 0 \n",
    "    factor = m-1\n",
    "    for i in range(len(path)):\n",
    "        if i+m > len(path):\n",
    "            sub_path = path[i:] + path[0:(i+m)%100]\n",
    "            cost = calc_sub_path_cost(sub_path, dm)\n",
    "            total += cost/(factor*total_cost)\n",
    "            sub_paths.append((cost/(factor*total_cost), path[i]))\n",
    "        else:\n",
    "            sub_path = path[i:i+m]\n",
    "            cost = calc_sub_path_cost(sub_path, dm)\n",
    "            total += cost/(factor*total_cost)\n",
    "            sub_paths.append((cost/(factor*total_cost), path[i]))\n",
    "            \n",
    "    total_removed = 0\n",
    "    while total_removed < to_remove:\n",
    "        d = random.random()\n",
    "        iterator = 0\n",
    "        for cost, node in sub_paths:\n",
    "            iterator += cost\n",
    "            if iterator > d:\n",
    "                if node not in path:\n",
    "                    continue\n",
    "                idx = path.index(node)\n",
    "                for i in range(1, factor):\n",
    "                    if path[(idx+i)%100] != '_':\n",
    "                        path[(idx+i)%100] = '_' \n",
    "                        total_removed += 1\n",
    "                sub_paths.remove((cost, node))\n",
    "                break\n",
    "\n",
    "    return path"
   ]
  },
  {
   "cell_type": "code",
   "execution_count": 150,
   "id": "a70b0a09",
   "metadata": {
    "ExecuteTime": {
     "end_time": "2022-12-10T15:55:23.572013Z",
     "start_time": "2022-12-10T15:55:23.558044Z"
    }
   },
   "outputs": [],
   "source": [
    "def greedy(node1, node2, lenght, path):\n",
    "    part = [node1, node2]\n",
    "    not_in_path = list(set(range(200)) - set(path))\n",
    "    \n",
    "    for _ in range(lenght):\n",
    "        moves = []\n",
    "        for idx, node1 in enumerate(part):\n",
    "            node2 = part[(idx+1)%len(part)]\n",
    "            for new_node in not_in_path:\n",
    "                new_dist = dm[node1][new_node] + dm[node2][new_node] - dm[node1][node2]\n",
    "                moves.append((new_dist, new_node, idx+1))\n",
    "        moves.sort(key = lambda x: x[0])\n",
    "        part.insert(moves[0][2], moves[0][1])\n",
    "        not_in_path.remove(moves[0][1])\n",
    "\n",
    "    return part\n",
    "        \n",
    "\n",
    "def repair(path):\n",
    "    if path[0] == '_':\n",
    "        while path[0] == '_':\n",
    "            path.append('_')\n",
    "            path.pop(0)\n",
    "#         print(path)\n",
    "    if path[-1] == '_':\n",
    "        path.append(path[0])\n",
    "        mem = path[0]\n",
    "\n",
    "    while '_' in path:\n",
    "        idx1 = path.index('_')\n",
    "        idx2 = copy.deepcopy(idx1)\n",
    "        try:\n",
    "            while path[idx2] == '_':\n",
    "                idx2+=1\n",
    "            new_part = greedy(path[idx1-1], path[idx2], idx2-idx1, path)\n",
    "\n",
    "            path[idx1-1:idx2+1] = new_part\n",
    "        except Exception as e:\n",
    "            print(e, idx2, path)\n",
    "            break\n",
    "\n",
    "    if len(path) > 100:\n",
    "        if path[0] == mem:\n",
    "            path.pop(0)\n",
    "#         print(path)\n",
    "    return path\n"
   ]
  },
  {
   "cell_type": "code",
   "execution_count": 151,
   "id": "95fd8c2a",
   "metadata": {
    "ExecuteTime": {
     "end_time": "2022-12-10T15:55:24.425921Z",
     "start_time": "2022-12-10T15:55:24.413918Z"
    },
    "code_folding": [
     0,
     11,
     21
    ]
   },
   "outputs": [],
   "source": [
    "def gen_node_exchange_moves(path):\n",
    "    not_selected = list(set([i for i in range(200)]) - set(path))\n",
    "    node_moves = []\n",
    "    for idx, node in enumerate(path):\n",
    "        for new_node in not_selected:\n",
    "            new_cost = dm[path[idx-1]][new_node] + dm[path[(idx+1)%100]][new_node] # two new edges\n",
    "            new_cost -= (dm[path[idx-1]][node] + dm[path[(idx+1)%100]][node]) #\n",
    "            node_moves.append((new_cost, 'n', idx, new_node)) #cost, type, idx of old move, new_node\n",
    "    return node_moves\n",
    "\n",
    "\n",
    "def gen_edge_exchange_moves(path):\n",
    "    edge_moves = []\n",
    "    for idx1, idx2 in all_posibble_comb:\n",
    "        if (idx2+1)%100 != idx1:\n",
    "            new_cost = dm[path[idx1]][path[(idx2+1)%100]] + dm[path[idx1-1]][path[idx2]] #new edges\n",
    "            new_cost -= (dm[path[idx1-1]][path[idx1]] + dm[path[idx2]][path[(idx2+1)%100]]) #old edges\n",
    "            edge_moves.append((new_cost, 'e', idx1, idx2))\n",
    "    return edge_moves\n",
    "\n",
    "\n",
    "def local_search(dm,all_combinations,path):\n",
    "    run = True\n",
    "    while run:\n",
    "        run = False\n",
    "        moves = gen_edge_exchange_moves(path) + gen_node_exchange_moves(path)\n",
    "        moves.sort(key=lambda x:x[0])\n",
    "        best_move = moves[0]\n",
    "        if best_move[0] < 0:\n",
    "            if best_move[1] == 'n':\n",
    "                idx = best_move[2]\n",
    "                new_node = best_move[3]\n",
    "                path[idx] = new_node\n",
    "                run = True\n",
    "            else:\n",
    "                idx1 = best_move[2]\n",
    "                idx2 = best_move[3]\n",
    "                path = path[:idx1] + path[idx1:idx2+1][::-1] + path[idx2+1:]\n",
    "                run = True\n",
    "    return path"
   ]
  },
  {
   "cell_type": "code",
   "execution_count": 152,
   "id": "4be9cb5a",
   "metadata": {
    "ExecuteTime": {
     "end_time": "2022-12-10T15:55:25.990588Z",
     "start_time": "2022-12-10T15:55:25.982624Z"
    }
   },
   "outputs": [],
   "source": [
    "dm = generate_dm(tsp)\n",
    "all_posibble_comb = list(itertools.combinations([i for i in range(100)], 2))\n",
    "# flag = False"
   ]
  },
  {
   "cell_type": "code",
   "execution_count": 165,
   "id": "4a0d33c3",
   "metadata": {
    "ExecuteTime": {
     "end_time": "2022-12-10T20:36:02.345129Z",
     "start_time": "2022-12-10T20:31:02.171698Z"
    },
    "scrolled": false
   },
   "outputs": [
    {
     "data": {
      "text/plain": [
       "(1050, 47469.0)"
      ]
     },
     "execution_count": 165,
     "metadata": {},
     "output_type": "execute_result"
    }
   ],
   "source": [
    "def run(flag, m_pool=[5], to_remove_pool=[20], total_time=300):\n",
    "    start = time.time()\n",
    "    path = get_random_solution()\n",
    "    path = local_search(dm, all_posibble_comb, path)\n",
    "    i = 0\n",
    "    while time.time() - start < total_time:\n",
    "        if len(set(path)) != 100:\n",
    "            print('error')\n",
    "            break\n",
    "        total_cost = calulate_total_cost(path, dm)\n",
    "        \n",
    "        m = random.choice(m_pool)\n",
    "        to_remove = random.choice(to_remove_pool)\n",
    "\n",
    "        new_path = destroy(copy.deepcopy(path), total_cost, m, to_remove)\n",
    "\n",
    "        new_path = repair(new_path)\n",
    "        if flag:\n",
    "            new_path = local_search(dm, all_posibble_comb, new_path)\n",
    "\n",
    "        if calulate_total_cost(new_path, dm) < total_cost:\n",
    "            path = new_path\n",
    "        i += 1\n",
    "    return i, path\n",
    "run(True)"
   ]
  },
  {
   "cell_type": "code",
   "execution_count": 164,
   "id": "a19dff0f",
   "metadata": {
    "ExecuteTime": {
     "end_time": "2022-12-10T18:10:12.664149Z",
     "start_time": "2022-12-10T18:05:12.359947Z"
    }
   },
   "outputs": [
    {
     "data": {
      "text/plain": [
       "(695, 46850.0)"
      ]
     },
     "execution_count": 164,
     "metadata": {},
     "output_type": "execute_result"
    }
   ],
   "source": [
    "run(True, [3, 5, 7, 9, 11], [10, 20, 30, 40, 50], 300)"
   ]
  },
  {
   "cell_type": "markdown",
   "id": "2a737a1e",
   "metadata": {},
   "source": [
    "### Destroy\n",
    "1. Generate all (in tis problem 100) sub_path's of the length m (for example [21, 88, 12, 44, 37]) and calculate `k`=cost(sub_path)/(`m`-1)*cost(path)\n",
    "2. Until we remove at least `Z` nodes from the path:\n",
    "\n",
    "    2.1 Chose at random subpath, end replace all nodes that are in this subpath from path with `_`; probabality of choosing=`k`.\n",
    "    \n",
    "### Repair\n",
    "1. Until there are some `_` in path:\n",
    "\n",
    "    1.1 Find old_sub_path which contains string of `_` (for example [21, `_`, `_`, `_`, 37])\n",
    "    \n",
    "    1.2 Create new_sub_path using greedy_cycle method with both side nodes as staring path, of the same length as old_sub_path.(for example [21, 55, 33, 37, 122])\n",
    "    \n",
    "    1.3 Replace old_sub_path with new_sub_path\n",
    "    \n",
    "### pseudo\n",
    "1. path = Generate random solution \n",
    "2. path = local_search(path)\n",
    "3. until time constrain\n",
    "\n",
    "    3.1 get random m and Z\n",
    "    \n",
    "    3.2 new_path = destroy(path, m, Z)\n",
    "    \n",
    "    3.3 new_path = repair(path)\n",
    "    \n",
    "    3.4 if flag=True, run new_path = local_search(path)\n",
    "    \n",
    "    3.5 if cost(new_path)<cost(path): path=new_path"
   ]
  },
  {
   "cell_type": "code",
   "execution_count": null,
   "id": "a1a87de5",
   "metadata": {},
   "outputs": [],
   "source": []
  }
 ],
 "metadata": {
  "kernelspec": {
   "display_name": "NLP",
   "language": "python",
   "name": "nlp"
  },
  "language_info": {
   "codemirror_mode": {
    "name": "ipython",
    "version": 3
   },
   "file_extension": ".py",
   "mimetype": "text/x-python",
   "name": "python",
   "nbconvert_exporter": "python",
   "pygments_lexer": "ipython3",
   "version": "3.9.7"
  },
  "toc": {
   "base_numbering": 1,
   "nav_menu": {},
   "number_sections": true,
   "sideBar": true,
   "skip_h1_title": false,
   "title_cell": "Table of Contents",
   "title_sidebar": "Contents",
   "toc_cell": false,
   "toc_position": {},
   "toc_section_display": true,
   "toc_window_display": false
  }
 },
 "nbformat": 4,
 "nbformat_minor": 5
}
