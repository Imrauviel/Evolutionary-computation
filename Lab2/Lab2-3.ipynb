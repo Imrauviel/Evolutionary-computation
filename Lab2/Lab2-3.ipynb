{
 "cells": [
  {
   "cell_type": "markdown",
   "id": "2eca022a",
   "metadata": {
    "pycharm": {
     "name": "#%% md\n"
    }
   },
   "source": [
    "Our problem to solve was a modified version of the Travel Salesman Problem: additionally, we have cost associated with each node, and we had to select exactly 50% of the total nodes."
   ]
  },
  {
   "cell_type": "markdown",
   "id": "24d2b314",
   "metadata": {
    "pycharm": {
     "name": "#%% md\n"
    }
   },
   "source": [
    "# Code"
   ]
  },
  {
   "cell_type": "code",
   "execution_count": 1,
   "id": "b9f26920",
   "metadata": {
    "ExecuteTime": {
     "end_time": "2022-10-22T20:19:08.827048Z",
     "start_time": "2022-10-22T20:19:05.604261Z"
    },
    "pycharm": {
     "name": "#%%\n"
    }
   },
   "outputs": [],
   "source": [
    "import pandas as pd\n",
    "import random \n",
    "import numpy as np\n",
    "import matplotlib.pyplot as plt\n",
    "from scipy.spatial import distance_matrix\n",
    "from tqdm import tqdm\n",
    "import warnings\n",
    "warnings.filterwarnings('ignore')"
   ]
  },
  {
   "cell_type": "code",
   "execution_count": 2,
   "id": "cee52b0f",
   "metadata": {
    "ExecuteTime": {
     "end_time": "2022-10-22T20:19:08.873877Z",
     "start_time": "2022-10-22T20:19:08.828911Z"
    },
    "pycharm": {
     "name": "#%%\n"
    }
   },
   "outputs": [
    {
     "data": {
      "text/html": [
       "<div>\n",
       "<style scoped>\n",
       "    .dataframe tbody tr th:only-of-type {\n",
       "        vertical-align: middle;\n",
       "    }\n",
       "\n",
       "    .dataframe tbody tr th {\n",
       "        vertical-align: top;\n",
       "    }\n",
       "\n",
       "    .dataframe thead th {\n",
       "        text-align: right;\n",
       "    }\n",
       "</style>\n",
       "<table border=\"1\" class=\"dataframe\">\n",
       "  <thead>\n",
       "    <tr style=\"text-align: right;\">\n",
       "      <th></th>\n",
       "      <th>0</th>\n",
       "      <th>1</th>\n",
       "      <th>2</th>\n",
       "    </tr>\n",
       "  </thead>\n",
       "  <tbody>\n",
       "    <tr>\n",
       "      <th>0</th>\n",
       "      <td>1510</td>\n",
       "      <td>353</td>\n",
       "      <td>84</td>\n",
       "    </tr>\n",
       "    <tr>\n",
       "      <th>1</th>\n",
       "      <td>3042</td>\n",
       "      <td>123</td>\n",
       "      <td>483</td>\n",
       "    </tr>\n",
       "    <tr>\n",
       "      <th>2</th>\n",
       "      <td>2145</td>\n",
       "      <td>389</td>\n",
       "      <td>1462</td>\n",
       "    </tr>\n",
       "    <tr>\n",
       "      <th>3</th>\n",
       "      <td>1030</td>\n",
       "      <td>365</td>\n",
       "      <td>1986</td>\n",
       "    </tr>\n",
       "    <tr>\n",
       "      <th>4</th>\n",
       "      <td>2125</td>\n",
       "      <td>360</td>\n",
       "      <td>145</td>\n",
       "    </tr>\n",
       "    <tr>\n",
       "      <th>...</th>\n",
       "      <td>...</td>\n",
       "      <td>...</td>\n",
       "      <td>...</td>\n",
       "    </tr>\n",
       "    <tr>\n",
       "      <th>195</th>\n",
       "      <td>1023</td>\n",
       "      <td>1258</td>\n",
       "      <td>197</td>\n",
       "    </tr>\n",
       "    <tr>\n",
       "      <th>196</th>\n",
       "      <td>3192</td>\n",
       "      <td>1271</td>\n",
       "      <td>1183</td>\n",
       "    </tr>\n",
       "    <tr>\n",
       "      <th>197</th>\n",
       "      <td>3735</td>\n",
       "      <td>1879</td>\n",
       "      <td>1461</td>\n",
       "    </tr>\n",
       "    <tr>\n",
       "      <th>198</th>\n",
       "      <td>3983</td>\n",
       "      <td>299</td>\n",
       "      <td>1309</td>\n",
       "    </tr>\n",
       "    <tr>\n",
       "      <th>199</th>\n",
       "      <td>2605</td>\n",
       "      <td>3</td>\n",
       "      <td>364</td>\n",
       "    </tr>\n",
       "  </tbody>\n",
       "</table>\n",
       "<p>200 rows × 3 columns</p>\n",
       "</div>"
      ],
      "text/plain": [
       "        0     1     2\n",
       "0    1510   353    84\n",
       "1    3042   123   483\n",
       "2    2145   389  1462\n",
       "3    1030   365  1986\n",
       "4    2125   360   145\n",
       "..    ...   ...   ...\n",
       "195  1023  1258   197\n",
       "196  3192  1271  1183\n",
       "197  3735  1879  1461\n",
       "198  3983   299  1309\n",
       "199  2605     3   364\n",
       "\n",
       "[200 rows x 3 columns]"
      ]
     },
     "execution_count": 2,
     "metadata": {},
     "output_type": "execute_result"
    }
   ],
   "source": [
    "tsp_a = pd.read_csv(\"../Lab1/TSPA.csv\", sep=';',header=None)\n",
    "tsp_b = pd.read_csv(\"../Lab1/TSPB.csv\", sep=';',header=None)\n",
    "\n",
    "tsp_a"
   ]
  },
  {
   "cell_type": "code",
   "execution_count": 20,
   "id": "c0166bda",
   "metadata": {
    "ExecuteTime": {
     "end_time": "2022-10-22T20:40:39.625971Z",
     "start_time": "2022-10-22T20:40:39.609427Z"
    },
    "pycharm": {
     "name": "#%%\n"
    }
   },
   "outputs": [],
   "source": [
    "def generate_dm(df, show=True):\n",
    "    temp = df[[0, 1]].to_numpy()\n",
    "    dm = distance_matrix(temp, temp)\n",
    "\n",
    "\n",
    "    temp = df[2].to_numpy() // 2\n",
    "    temp = temp * np.ones((200, 200))\n",
    "    dm = dm+temp+temp.T\n",
    "    dm = np.around(dm)\n",
    "#     dm = dm // 1\n",
    "\n",
    "    for i in range(df.shape[0]):\n",
    "        dm[i][i] = np.inf\n",
    "\n",
    "    \n",
    "    if show: \n",
    "        df_dist = pd.DataFrame(dm)\n",
    "        display(df_dist)\n",
    "    return dm\n"
   ]
  },
  {
   "cell_type": "markdown",
   "id": "9d4f6b7a",
   "metadata": {
    "pycharm": {
     "name": "#%% md\n"
    }
   },
   "source": [
    "### Regret"
   ]
  },
  {
   "cell_type": "code",
   "execution_count": 4,
   "id": "97acabe4",
   "metadata": {
    "ExecuteTime": {
     "end_time": "2022-10-22T20:19:08.905907Z",
     "start_time": "2022-10-22T20:19:08.891877Z"
    },
    "pycharm": {
     "name": "#%%\n"
    }
   },
   "outputs": [
    {
     "data": {
      "text/html": [
       "<div>\n",
       "<style scoped>\n",
       "    .dataframe tbody tr th:only-of-type {\n",
       "        vertical-align: middle;\n",
       "    }\n",
       "\n",
       "    .dataframe tbody tr th {\n",
       "        vertical-align: top;\n",
       "    }\n",
       "\n",
       "    .dataframe thead th {\n",
       "        text-align: right;\n",
       "    }\n",
       "</style>\n",
       "<table border=\"1\" class=\"dataframe\">\n",
       "  <thead>\n",
       "    <tr style=\"text-align: right;\">\n",
       "      <th></th>\n",
       "      <th>0</th>\n",
       "      <th>1</th>\n",
       "      <th>2</th>\n",
       "    </tr>\n",
       "  </thead>\n",
       "  <tbody>\n",
       "    <tr>\n",
       "      <th>0</th>\n",
       "      <td>1510</td>\n",
       "      <td>353</td>\n",
       "      <td>84</td>\n",
       "    </tr>\n",
       "    <tr>\n",
       "      <th>1</th>\n",
       "      <td>3042</td>\n",
       "      <td>123</td>\n",
       "      <td>483</td>\n",
       "    </tr>\n",
       "    <tr>\n",
       "      <th>2</th>\n",
       "      <td>2145</td>\n",
       "      <td>389</td>\n",
       "      <td>1462</td>\n",
       "    </tr>\n",
       "    <tr>\n",
       "      <th>3</th>\n",
       "      <td>1030</td>\n",
       "      <td>365</td>\n",
       "      <td>1986</td>\n",
       "    </tr>\n",
       "    <tr>\n",
       "      <th>4</th>\n",
       "      <td>2125</td>\n",
       "      <td>360</td>\n",
       "      <td>145</td>\n",
       "    </tr>\n",
       "    <tr>\n",
       "      <th>5</th>\n",
       "      <td>3121</td>\n",
       "      <td>1452</td>\n",
       "      <td>1117</td>\n",
       "    </tr>\n",
       "    <tr>\n",
       "      <th>6</th>\n",
       "      <td>2572</td>\n",
       "      <td>1989</td>\n",
       "      <td>151</td>\n",
       "    </tr>\n",
       "    <tr>\n",
       "      <th>7</th>\n",
       "      <td>755</td>\n",
       "      <td>1780</td>\n",
       "      <td>1072</td>\n",
       "    </tr>\n",
       "    <tr>\n",
       "      <th>8</th>\n",
       "      <td>3805</td>\n",
       "      <td>1161</td>\n",
       "      <td>273</td>\n",
       "    </tr>\n",
       "    <tr>\n",
       "      <th>9</th>\n",
       "      <td>2736</td>\n",
       "      <td>795</td>\n",
       "      <td>1589</td>\n",
       "    </tr>\n",
       "    <tr>\n",
       "      <th>10</th>\n",
       "      <td>778</td>\n",
       "      <td>785</td>\n",
       "      <td>1674</td>\n",
       "    </tr>\n",
       "    <tr>\n",
       "      <th>11</th>\n",
       "      <td>3606</td>\n",
       "      <td>116</td>\n",
       "      <td>446</td>\n",
       "    </tr>\n",
       "    <tr>\n",
       "      <th>12</th>\n",
       "      <td>3348</td>\n",
       "      <td>1871</td>\n",
       "      <td>996</td>\n",
       "    </tr>\n",
       "    <tr>\n",
       "      <th>13</th>\n",
       "      <td>3828</td>\n",
       "      <td>793</td>\n",
       "      <td>1746</td>\n",
       "    </tr>\n",
       "    <tr>\n",
       "      <th>14</th>\n",
       "      <td>3947</td>\n",
       "      <td>1971</td>\n",
       "      <td>499</td>\n",
       "    </tr>\n",
       "    <tr>\n",
       "      <th>15</th>\n",
       "      <td>1278</td>\n",
       "      <td>1463</td>\n",
       "      <td>1028</td>\n",
       "    </tr>\n",
       "    <tr>\n",
       "      <th>16</th>\n",
       "      <td>3529</td>\n",
       "      <td>282</td>\n",
       "      <td>1863</td>\n",
       "    </tr>\n",
       "    <tr>\n",
       "      <th>17</th>\n",
       "      <td>2818</td>\n",
       "      <td>542</td>\n",
       "      <td>1724</td>\n",
       "    </tr>\n",
       "    <tr>\n",
       "      <th>18</th>\n",
       "      <td>1184</td>\n",
       "      <td>1380</td>\n",
       "      <td>1373</td>\n",
       "    </tr>\n",
       "    <tr>\n",
       "      <th>19</th>\n",
       "      <td>1424</td>\n",
       "      <td>69</td>\n",
       "      <td>150</td>\n",
       "    </tr>\n",
       "    <tr>\n",
       "      <th>20</th>\n",
       "      <td>34</td>\n",
       "      <td>1105</td>\n",
       "      <td>448</td>\n",
       "    </tr>\n",
       "    <tr>\n",
       "      <th>21</th>\n",
       "      <td>1769</td>\n",
       "      <td>1386</td>\n",
       "      <td>564</td>\n",
       "    </tr>\n",
       "    <tr>\n",
       "      <th>22</th>\n",
       "      <td>1187</td>\n",
       "      <td>1284</td>\n",
       "      <td>338</td>\n",
       "    </tr>\n",
       "    <tr>\n",
       "      <th>23</th>\n",
       "      <td>611</td>\n",
       "      <td>660</td>\n",
       "      <td>1980</td>\n",
       "    </tr>\n",
       "    <tr>\n",
       "      <th>24</th>\n",
       "      <td>2299</td>\n",
       "      <td>1689</td>\n",
       "      <td>859</td>\n",
       "    </tr>\n",
       "    <tr>\n",
       "      <th>25</th>\n",
       "      <td>524</td>\n",
       "      <td>935</td>\n",
       "      <td>1179</td>\n",
       "    </tr>\n",
       "    <tr>\n",
       "      <th>26</th>\n",
       "      <td>3761</td>\n",
       "      <td>761</td>\n",
       "      <td>478</td>\n",
       "    </tr>\n",
       "    <tr>\n",
       "      <th>27</th>\n",
       "      <td>52</td>\n",
       "      <td>109</td>\n",
       "      <td>476</td>\n",
       "    </tr>\n",
       "    <tr>\n",
       "      <th>28</th>\n",
       "      <td>1376</td>\n",
       "      <td>1308</td>\n",
       "      <td>1287</td>\n",
       "    </tr>\n",
       "    <tr>\n",
       "      <th>29</th>\n",
       "      <td>2203</td>\n",
       "      <td>351</td>\n",
       "      <td>1561</td>\n",
       "    </tr>\n",
       "    <tr>\n",
       "      <th>30</th>\n",
       "      <td>997</td>\n",
       "      <td>1180</td>\n",
       "      <td>1648</td>\n",
       "    </tr>\n",
       "    <tr>\n",
       "      <th>31</th>\n",
       "      <td>3587</td>\n",
       "      <td>1694</td>\n",
       "      <td>587</td>\n",
       "    </tr>\n",
       "    <tr>\n",
       "      <th>32</th>\n",
       "      <td>1109</td>\n",
       "      <td>1824</td>\n",
       "      <td>845</td>\n",
       "    </tr>\n",
       "    <tr>\n",
       "      <th>33</th>\n",
       "      <td>3613</td>\n",
       "      <td>725</td>\n",
       "      <td>1950</td>\n",
       "    </tr>\n",
       "    <tr>\n",
       "      <th>34</th>\n",
       "      <td>924</td>\n",
       "      <td>281</td>\n",
       "      <td>1246</td>\n",
       "    </tr>\n",
       "    <tr>\n",
       "      <th>35</th>\n",
       "      <td>1645</td>\n",
       "      <td>78</td>\n",
       "      <td>1135</td>\n",
       "    </tr>\n",
       "    <tr>\n",
       "      <th>36</th>\n",
       "      <td>1032</td>\n",
       "      <td>882</td>\n",
       "      <td>785</td>\n",
       "    </tr>\n",
       "    <tr>\n",
       "      <th>37</th>\n",
       "      <td>728</td>\n",
       "      <td>505</td>\n",
       "      <td>1022</td>\n",
       "    </tr>\n",
       "    <tr>\n",
       "      <th>38</th>\n",
       "      <td>1525</td>\n",
       "      <td>389</td>\n",
       "      <td>1945</td>\n",
       "    </tr>\n",
       "    <tr>\n",
       "      <th>39</th>\n",
       "      <td>2720</td>\n",
       "      <td>99</td>\n",
       "      <td>1321</td>\n",
       "    </tr>\n",
       "    <tr>\n",
       "      <th>40</th>\n",
       "      <td>1014</td>\n",
       "      <td>436</td>\n",
       "      <td>1172</td>\n",
       "    </tr>\n",
       "    <tr>\n",
       "      <th>41</th>\n",
       "      <td>2955</td>\n",
       "      <td>1</td>\n",
       "      <td>665</td>\n",
       "    </tr>\n",
       "    <tr>\n",
       "      <th>42</th>\n",
       "      <td>3471</td>\n",
       "      <td>1985</td>\n",
       "      <td>1053</td>\n",
       "    </tr>\n",
       "    <tr>\n",
       "      <th>43</th>\n",
       "      <td>1970</td>\n",
       "      <td>134</td>\n",
       "      <td>479</td>\n",
       "    </tr>\n",
       "    <tr>\n",
       "      <th>44</th>\n",
       "      <td>1745</td>\n",
       "      <td>1827</td>\n",
       "      <td>1563</td>\n",
       "    </tr>\n",
       "    <tr>\n",
       "      <th>45</th>\n",
       "      <td>2344</td>\n",
       "      <td>1276</td>\n",
       "      <td>901</td>\n",
       "    </tr>\n",
       "    <tr>\n",
       "      <th>46</th>\n",
       "      <td>273</td>\n",
       "      <td>463</td>\n",
       "      <td>1806</td>\n",
       "    </tr>\n",
       "    <tr>\n",
       "      <th>47</th>\n",
       "      <td>944</td>\n",
       "      <td>1404</td>\n",
       "      <td>1509</td>\n",
       "    </tr>\n",
       "    <tr>\n",
       "      <th>48</th>\n",
       "      <td>3773</td>\n",
       "      <td>355</td>\n",
       "      <td>137</td>\n",
       "    </tr>\n",
       "    <tr>\n",
       "      <th>49</th>\n",
       "      <td>1494</td>\n",
       "      <td>530</td>\n",
       "      <td>1377</td>\n",
       "    </tr>\n",
       "  </tbody>\n",
       "</table>\n",
       "</div>"
      ],
      "text/plain": [
       "       0     1     2\n",
       "0   1510   353    84\n",
       "1   3042   123   483\n",
       "2   2145   389  1462\n",
       "3   1030   365  1986\n",
       "4   2125   360   145\n",
       "5   3121  1452  1117\n",
       "6   2572  1989   151\n",
       "7    755  1780  1072\n",
       "8   3805  1161   273\n",
       "9   2736   795  1589\n",
       "10   778   785  1674\n",
       "11  3606   116   446\n",
       "12  3348  1871   996\n",
       "13  3828   793  1746\n",
       "14  3947  1971   499\n",
       "15  1278  1463  1028\n",
       "16  3529   282  1863\n",
       "17  2818   542  1724\n",
       "18  1184  1380  1373\n",
       "19  1424    69   150\n",
       "20    34  1105   448\n",
       "21  1769  1386   564\n",
       "22  1187  1284   338\n",
       "23   611   660  1980\n",
       "24  2299  1689   859\n",
       "25   524   935  1179\n",
       "26  3761   761   478\n",
       "27    52   109   476\n",
       "28  1376  1308  1287\n",
       "29  2203   351  1561\n",
       "30   997  1180  1648\n",
       "31  3587  1694   587\n",
       "32  1109  1824   845\n",
       "33  3613   725  1950\n",
       "34   924   281  1246\n",
       "35  1645    78  1135\n",
       "36  1032   882   785\n",
       "37   728   505  1022\n",
       "38  1525   389  1945\n",
       "39  2720    99  1321\n",
       "40  1014   436  1172\n",
       "41  2955     1   665\n",
       "42  3471  1985  1053\n",
       "43  1970   134   479\n",
       "44  1745  1827  1563\n",
       "45  2344  1276   901\n",
       "46   273   463  1806\n",
       "47   944  1404  1509\n",
       "48  3773   355   137\n",
       "49  1494   530  1377"
      ]
     },
     "execution_count": 4,
     "metadata": {},
     "output_type": "execute_result"
    }
   ],
   "source": [
    "test_data = tsp_a[:50]\n",
    "test_data"
   ]
  },
  {
   "cell_type": "code",
   "execution_count": 5,
   "id": "0a9afed2",
   "metadata": {
    "ExecuteTime": {
     "end_time": "2022-10-22T20:19:08.921875Z",
     "start_time": "2022-10-22T20:19:08.906875Z"
    },
    "pycharm": {
     "name": "#%%\n"
    }
   },
   "outputs": [],
   "source": [
    "# def generate_dm(df, show=True):\n",
    "#     temp = df[[0, 1]].to_numpy()\n",
    "#     dm = distance_matrix(temp, temp)\n",
    "\n",
    "\n",
    "#     temp = df[2].to_numpy() // 2\n",
    "#     temp = temp * np.ones((50, 50))\n",
    "#     dm = dm+temp+temp.T\n",
    "#     dm = dm // 1\n",
    "\n",
    "#     for i in range(50):\n",
    "#         dm[i][i] = np.inf\n",
    "\n",
    "\n",
    "#     if show:\n",
    "#         df_dist = pd.DataFrame(dm)\n",
    "#         display(df_dist)\n",
    "#     return dm\n"
   ]
  },
  {
   "cell_type": "code",
   "execution_count": 21,
   "id": "b5ba7fc3",
   "metadata": {
    "ExecuteTime": {
     "end_time": "2022-10-22T20:40:53.380106Z",
     "start_time": "2022-10-22T20:40:53.358431Z"
    },
    "pycharm": {
     "name": "#%%\n"
    }
   },
   "outputs": [
    {
     "data": {
      "text/plain": [
       "(200, 200)"
      ]
     },
     "execution_count": 21,
     "metadata": {},
     "output_type": "execute_result"
    }
   ],
   "source": [
    "dm = generate_dm(tsp_a, False)\n",
    "dm.shape"
   ]
  },
  {
   "cell_type": "code",
   "execution_count": 7,
   "id": "e1947985",
   "metadata": {
    "ExecuteTime": {
     "end_time": "2022-10-22T20:19:09.551313Z",
     "start_time": "2022-10-22T20:19:09.539284Z"
    },
    "pycharm": {
     "name": "#%%\n"
    }
   },
   "outputs": [],
   "source": [
    "def get_nodes(edge:str):\n",
    "    return [int(i) for i in edge.split('_')]"
   ]
  },
  {
   "cell_type": "code",
   "execution_count": 83,
   "id": "a6cdd5fb",
   "metadata": {
    "ExecuteTime": {
     "end_time": "2022-10-23T10:00:18.713941Z",
     "start_time": "2022-10-23T10:00:18.671941Z"
    },
    "pycharm": {
     "name": "#%%\n"
    }
   },
   "outputs": [],
   "source": [
    "# start_node_idx = 1\n",
    "def f(start_node_idx, dm, weight_regret=1, weight_cost=0, return_cycle=False):\n",
    "    data = tsp_a\n",
    "    dm = dm\n",
    "    data_indexes = data.index.to_list()\n",
    "    cost = 0\n",
    "\n",
    "    if start_node_idx is None:\n",
    "        start_node_idx = random.choice(data_indexes)\n",
    "\n",
    "    node = data_indexes[start_node_idx]\n",
    "    next_node = dm[node].argmin()\n",
    "\n",
    "    data_indexes.remove(node)\n",
    "    data_indexes.remove(next_node)\n",
    "\n",
    "    edge1 = str(node) + '_' + str(next_node)\n",
    "    edge2 = str(next_node) + '_' + str(node)\n",
    "    cycle = [edge1, edge2]\n",
    "\n",
    "    #for, sort1, sort2, total\n",
    "    while len(cycle) < data.shape[0]//2:\n",
    "        store = []\n",
    "        \n",
    "        for node in data_indexes:\n",
    "            options = []\n",
    "            for edge in cycle:\n",
    "                old_node1, old_node2 = [int(i) for i in edge.split('_')]\n",
    "                change = dm[old_node1][node] + dm[old_node2][node] - dm[old_node1][old_node2]\n",
    "                options.append((edge, change))\n",
    "            options.sort(key=lambda x: x[1]) #here\n",
    "            regret = options[0][1] - options[1][1]\n",
    "            value = weight_regret*regret + weight_cost*options[0][1]\n",
    "            store.append((node, options[0][0], value))\n",
    "\n",
    "        store.sort(key=lambda x: x[2])\n",
    "\n",
    "        best = store[0]\n",
    "        cycle.remove(best[1])\n",
    "        data_indexes.remove(best[0])\n",
    "        old_node1, old_node2 = [int(i) for i in best[1].split('_')]\n",
    "        cycle.append(str(old_node1)+'_'+str(best[0]))\n",
    "        cycle.append(str(best[0])+'_'+str(old_node2))\n",
    "\n",
    "    total = 0\n",
    "    for edge in cycle:\n",
    "        node1, node2 = [int(i) for i in edge.split('_')]\n",
    "        total += dm[node1][node2]\n",
    "        \n",
    "    if return_cycle:\n",
    "        return total, cycle\n",
    "    else:\n",
    "        return total\n"
   ]
  },
  {
   "cell_type": "code",
   "execution_count": 84,
   "id": "bff3dedf",
   "metadata": {
    "ExecuteTime": {
     "end_time": "2022-10-23T10:00:31.554400Z",
     "start_time": "2022-10-23T10:00:19.070401Z"
    }
   },
   "outputs": [
    {
     "name": "stderr",
     "output_type": "stream",
     "text": [
      "100%|██████████████████████████████████████████████████████████████████████████████████| 10/10 [00:12<00:00,  1.25s/it]\n"
     ]
    },
    {
     "data": {
      "text/plain": [
       "(74849.0, 76130.0, 77084.0)"
      ]
     },
     "execution_count": 84,
     "metadata": {},
     "output_type": "execute_result"
    }
   ],
   "source": [
    "totals = []\n",
    "history = []\n",
    "for i in tqdm(range(10)):\n",
    "    totals.append(f(i, dm, 0.5, 0.5))\n",
    "#     history.append(f(i,dm)[1])\n",
    "totals = np.array(totals)\n",
    "totals.min(), totals.mean(), totals.max()"
   ]
  },
  {
   "cell_type": "markdown",
   "id": "7221737a",
   "metadata": {},
   "source": [
    "Problem with 2-regret: 1st choice is aribtrary(when we have only 2 nodes in cycle, regretes for all other nodes are the same) "
   ]
  },
  {
   "cell_type": "code",
   "execution_count": 59,
   "id": "8aec6b02",
   "metadata": {
    "ExecuteTime": {
     "end_time": "2022-10-22T21:18:38.098675Z",
     "start_time": "2022-10-22T21:18:38.090791Z"
    }
   },
   "outputs": [
    {
     "data": {
      "text/plain": [
       "113"
      ]
     },
     "execution_count": 59,
     "metadata": {},
     "output_type": "execute_result"
    }
   ],
   "source": [
    "totals.argmin()"
   ]
  },
  {
   "cell_type": "code",
   "execution_count": 60,
   "id": "e8a71b5a",
   "metadata": {
    "ExecuteTime": {
     "end_time": "2022-10-22T21:18:41.831663Z",
     "start_time": "2022-10-22T21:18:41.819665Z"
    },
    "pycharm": {
     "name": "#%%\n"
    }
   },
   "outputs": [
    {
     "data": {
      "text/plain": [
       "117525.0"
      ]
     },
     "execution_count": 60,
     "metadata": {},
     "output_type": "execute_result"
    }
   ],
   "source": [
    "total = 0\n",
    "for edge in history[113]:\n",
    "    node1, node2 = [int(i) for i in edge.split('_')]\n",
    "    total += dm[node1][node2]\n",
    "total"
   ]
  },
  {
   "cell_type": "code",
   "execution_count": 69,
   "id": "29d80e17",
   "metadata": {
    "ExecuteTime": {
     "end_time": "2022-10-22T21:20:33.960671Z",
     "start_time": "2022-10-22T21:20:33.953671Z"
    },
    "pycharm": {
     "name": "#%%\n"
    }
   },
   "outputs": [],
   "source": [
    "cycle = history[113]\n",
    "cycle_d = [[int(i) for i in c.split('_')] for c in cycle]\n",
    "cycle_f = [item for sublist in cycle_d for item in sublist]"
   ]
  },
  {
   "cell_type": "code",
   "execution_count": 70,
   "id": "e439b300",
   "metadata": {
    "ExecuteTime": {
     "end_time": "2022-10-22T21:20:34.258269Z",
     "start_time": "2022-10-22T21:20:34.242198Z"
    },
    "pycharm": {
     "name": "#%%\n"
    }
   },
   "outputs": [
    {
     "data": {
      "text/plain": [
       "(200, 100)"
      ]
     },
     "execution_count": 70,
     "metadata": {},
     "output_type": "execute_result"
    }
   ],
   "source": [
    "len(cycle_f), len(set(cycle_f))"
   ]
  },
  {
   "cell_type": "code",
   "execution_count": 71,
   "id": "c709e782",
   "metadata": {
    "ExecuteTime": {
     "end_time": "2022-10-22T21:20:34.885002Z",
     "start_time": "2022-10-22T21:20:34.617755Z"
    },
    "pycharm": {
     "name": "#%%\n"
    }
   },
   "outputs": [
    {
     "data": {
      "image/png": "[encoded data removed]",
      "text/plain": [
       "<Figure size 1080x720 with 2 Axes>"
      ]
     },
     "metadata": {
      "needs_background": "light"
     },
     "output_type": "display_data"
    }
   ],
   "source": [
    "cycle = [x.split('_') for x in cycle ]\n",
    "order = ['0']\n",
    "while len(order) < 100:\n",
    "    for n1, n2 in cycle:\n",
    "        if n1 == order[-1]:\n",
    "            order.append(n2)\n",
    "\n",
    "order = [int(x) for x in order]\n",
    "cycle = tsp_a.loc[order]\n",
    "cycle = cycle.append(cycle.iloc[0])\n",
    "\n",
    "\n",
    "plt.figure(figsize=(15, 10))\n",
    "plt.scatter(tsp_a[0], tsp_a[1], 80, tsp_a[2], cmap='inferno')\n",
    "plt.clim(0, 2000)\n",
    "plt.colorbar().set_label('cost', labelpad=-45, y=1.025, rotation=0)\n",
    "plt.plot(cycle[0], cycle[1], c='black')\n",
    "plt.show()"
   ]
  },
  {
   "cell_type": "code",
   "execution_count": 31,
   "id": "b63362f4",
   "metadata": {
    "pycharm": {
     "name": "#%%\n"
    }
   },
   "outputs": [],
   "source": [
    "cycle.append(('0_5',200))"
   ]
  },
  {
   "cell_type": "code",
   "execution_count": 64,
   "id": "3ec89585",
   "metadata": {
    "ExecuteTime": {
     "end_time": "2022-10-22T21:19:49.976586Z",
     "start_time": "2022-10-22T21:19:49.970109Z"
    },
    "pycharm": {
     "name": "#%%\n"
    }
   },
   "outputs": [
    {
     "data": {
      "text/html": [
       "<div>\n",
       "<style scoped>\n",
       "    .dataframe tbody tr th:only-of-type {\n",
       "        vertical-align: middle;\n",
       "    }\n",
       "\n",
       "    .dataframe tbody tr th {\n",
       "        vertical-align: top;\n",
       "    }\n",
       "\n",
       "    .dataframe thead th {\n",
       "        text-align: right;\n",
       "    }\n",
       "</style>\n",
       "<table border=\"1\" class=\"dataframe\">\n",
       "  <thead>\n",
       "    <tr style=\"text-align: right;\">\n",
       "      <th></th>\n",
       "      <th>0</th>\n",
       "      <th>1</th>\n",
       "      <th>2</th>\n",
       "    </tr>\n",
       "  </thead>\n",
       "  <tbody>\n",
       "    <tr>\n",
       "      <th>0</th>\n",
       "      <td>1510</td>\n",
       "      <td>353</td>\n",
       "      <td>84</td>\n",
       "    </tr>\n",
       "    <tr>\n",
       "      <th>70</th>\n",
       "      <td>230</td>\n",
       "      <td>248</td>\n",
       "      <td>1977</td>\n",
       "    </tr>\n",
       "    <tr>\n",
       "      <th>96</th>\n",
       "      <td>243</td>\n",
       "      <td>232</td>\n",
       "      <td>34</td>\n",
       "    </tr>\n",
       "    <tr>\n",
       "      <th>116</th>\n",
       "      <td>2</td>\n",
       "      <td>102</td>\n",
       "      <td>921</td>\n",
       "    </tr>\n",
       "    <tr>\n",
       "      <th>27</th>\n",
       "      <td>52</td>\n",
       "      <td>109</td>\n",
       "      <td>476</td>\n",
       "    </tr>\n",
       "    <tr>\n",
       "      <th>143</th>\n",
       "      <td>580</td>\n",
       "      <td>83</td>\n",
       "      <td>297</td>\n",
       "    </tr>\n",
       "    <tr>\n",
       "      <th>0</th>\n",
       "      <td>1510</td>\n",
       "      <td>353</td>\n",
       "      <td>84</td>\n",
       "    </tr>\n",
       "  </tbody>\n",
       "</table>\n",
       "</div>"
      ],
      "text/plain": [
       "        0    1     2\n",
       "0    1510  353    84\n",
       "70    230  248  1977\n",
       "96    243  232    34\n",
       "116     2  102   921\n",
       "27     52  109   476\n",
       "143   580   83   297\n",
       "0    1510  353    84"
      ]
     },
     "execution_count": 64,
     "metadata": {},
     "output_type": "execute_result"
    }
   ],
   "source": [
    "cycle\n",
    "\n"
   ]
  },
  {
   "cell_type": "code",
   "execution_count": 30,
   "id": "3bc00618",
   "metadata": {
    "pycharm": {
     "name": "#%%\n"
    }
   },
   "outputs": [
    {
     "name": "stdout",
     "output_type": "stream",
     "text": [
      "0\n",
      "[729.0, 729.0, 200]\n",
      "4\n",
      "[729.0, 729.0]\n",
      "0\n",
      "[729.0, 729.0, 200]\n"
     ]
    }
   ],
   "source": [
    "for edge, dist in cycle:\n",
    "    old_node1, old_node2 = edge.split('_')\n",
    "    print(old_node1)\n",
    "    edges_to_delete = [i for e,i in cycle if old_node1 in e]\n",
    "    print(edges_to_delete)"
   ]
  },
  {
   "cell_type": "code",
   "execution_count": 9,
   "id": "9617b50a",
   "metadata": {
    "pycharm": {
     "name": "#%%\n"
    }
   },
   "outputs": [
    {
     "ename": "KeyboardInterrupt",
     "evalue": "",
     "output_type": "error",
     "traceback": [
      "\u001b[0;31m---------------------------------------------------------------------------\u001b[0m",
      "\u001b[0;31mKeyboardInterrupt\u001b[0m                         Traceback (most recent call last)",
      "Input \u001b[0;32mIn [9]\u001b[0m, in \u001b[0;36m<cell line: 49>\u001b[0;34m()\u001b[0m\n\u001b[1;32m     47\u001b[0m     \u001b[38;5;28;01mreturn\u001b[39;00m cost, cycle\n\u001b[1;32m     48\u001b[0m \u001b[38;5;66;03m# dm = generate_dm(tsp_a, False)\u001b[39;00m\n\u001b[0;32m---> 49\u001b[0m cost, cycle \u001b[38;5;241m=\u001b[39m \u001b[43mget_total_greedy_cycle_cost\u001b[49m\u001b[43m(\u001b[49m\u001b[43mtest_data\u001b[49m\u001b[43m,\u001b[49m\u001b[43m \u001b[49m\u001b[43mtest_dm\u001b[49m\u001b[43m,\u001b[49m\u001b[43m \u001b[49m\u001b[38;5;241;43m0\u001b[39;49m\u001b[43m)\u001b[49m\n\u001b[1;32m     50\u001b[0m cost\n",
      "Input \u001b[0;32mIn [9]\u001b[0m, in \u001b[0;36mget_total_greedy_cycle_cost\u001b[0;34m(data, dm, start_node_idx)\u001b[0m\n\u001b[1;32m     26\u001b[0m \u001b[38;5;28;01mfor\u001b[39;00m edge, dist \u001b[38;5;129;01min\u001b[39;00m cycle:\n\u001b[1;32m     27\u001b[0m     old_node1, old_node2 \u001b[38;5;241m=\u001b[39m [\u001b[38;5;28mint\u001b[39m(i) \u001b[38;5;28;01mfor\u001b[39;00m i \u001b[38;5;129;01min\u001b[39;00m edge\u001b[38;5;241m.\u001b[39msplit(\u001b[38;5;124m'\u001b[39m\u001b[38;5;124m_\u001b[39m\u001b[38;5;124m'\u001b[39m)]\n\u001b[0;32m---> 28\u001b[0m     \u001b[38;5;28;01mfor\u001b[39;00m node \u001b[38;5;129;01min\u001b[39;00m data_indexes:\n\u001b[1;32m     29\u001b[0m         edge1 \u001b[38;5;241m=\u001b[39m \u001b[38;5;28mstr\u001b[39m(old_node1) \u001b[38;5;241m+\u001b[39m \u001b[38;5;124m'\u001b[39m\u001b[38;5;124m_\u001b[39m\u001b[38;5;124m'\u001b[39m \u001b[38;5;241m+\u001b[39m \u001b[38;5;28mstr\u001b[39m(node)\n\u001b[1;32m     30\u001b[0m         edge2 \u001b[38;5;241m=\u001b[39m \u001b[38;5;28mstr\u001b[39m(node) \u001b[38;5;241m+\u001b[39m \u001b[38;5;124m'\u001b[39m\u001b[38;5;124m_\u001b[39m\u001b[38;5;124m'\u001b[39m \u001b[38;5;241m+\u001b[39m \u001b[38;5;28mstr\u001b[39m(old_node2)\n",
      "Input \u001b[0;32mIn [9]\u001b[0m, in \u001b[0;36mget_total_greedy_cycle_cost\u001b[0;34m(data, dm, start_node_idx)\u001b[0m\n\u001b[1;32m     26\u001b[0m \u001b[38;5;28;01mfor\u001b[39;00m edge, dist \u001b[38;5;129;01min\u001b[39;00m cycle:\n\u001b[1;32m     27\u001b[0m     old_node1, old_node2 \u001b[38;5;241m=\u001b[39m [\u001b[38;5;28mint\u001b[39m(i) \u001b[38;5;28;01mfor\u001b[39;00m i \u001b[38;5;129;01min\u001b[39;00m edge\u001b[38;5;241m.\u001b[39msplit(\u001b[38;5;124m'\u001b[39m\u001b[38;5;124m_\u001b[39m\u001b[38;5;124m'\u001b[39m)]\n\u001b[0;32m---> 28\u001b[0m     \u001b[38;5;28;01mfor\u001b[39;00m node \u001b[38;5;129;01min\u001b[39;00m data_indexes:\n\u001b[1;32m     29\u001b[0m         edge1 \u001b[38;5;241m=\u001b[39m \u001b[38;5;28mstr\u001b[39m(old_node1) \u001b[38;5;241m+\u001b[39m \u001b[38;5;124m'\u001b[39m\u001b[38;5;124m_\u001b[39m\u001b[38;5;124m'\u001b[39m \u001b[38;5;241m+\u001b[39m \u001b[38;5;28mstr\u001b[39m(node)\n\u001b[1;32m     30\u001b[0m         edge2 \u001b[38;5;241m=\u001b[39m \u001b[38;5;28mstr\u001b[39m(node) \u001b[38;5;241m+\u001b[39m \u001b[38;5;124m'\u001b[39m\u001b[38;5;124m_\u001b[39m\u001b[38;5;124m'\u001b[39m \u001b[38;5;241m+\u001b[39m \u001b[38;5;28mstr\u001b[39m(old_node2)\n",
      "File \u001b[0;32m_pydevd_bundle/pydevd_cython_darwin_38_64.pyx:1179\u001b[0m, in \u001b[0;36m_pydevd_bundle.pydevd_cython_darwin_38_64.SafeCallWrapper.__call__\u001b[0;34m()\u001b[0m\n",
      "File \u001b[0;32m_pydevd_bundle/pydevd_cython_darwin_38_64.pyx:620\u001b[0m, in \u001b[0;36m_pydevd_bundle.pydevd_cython_darwin_38_64.PyDBFrame.trace_dispatch\u001b[0;34m()\u001b[0m\n",
      "File \u001b[0;32m_pydevd_bundle/pydevd_cython_darwin_38_64.pyx:929\u001b[0m, in \u001b[0;36m_pydevd_bundle.pydevd_cython_darwin_38_64.PyDBFrame.trace_dispatch\u001b[0;34m()\u001b[0m\n",
      "File \u001b[0;32m_pydevd_bundle/pydevd_cython_darwin_38_64.pyx:920\u001b[0m, in \u001b[0;36m_pydevd_bundle.pydevd_cython_darwin_38_64.PyDBFrame.trace_dispatch\u001b[0;34m()\u001b[0m\n",
      "File \u001b[0;32m_pydevd_bundle/pydevd_cython_darwin_38_64.pyx:317\u001b[0m, in \u001b[0;36m_pydevd_bundle.pydevd_cython_darwin_38_64.PyDBFrame.do_wait_suspend\u001b[0;34m()\u001b[0m\n",
      "File \u001b[0;32m/Applications/PyCharm.app/Contents/plugins/python/helpers/pydev/pydevd.py:1160\u001b[0m, in \u001b[0;36mPyDB.do_wait_suspend\u001b[0;34m(self, thread, frame, event, arg, send_suspend_message, is_unhandled_exception)\u001b[0m\n\u001b[1;32m   1157\u001b[0m         from_this_thread\u001b[38;5;241m.\u001b[39mappend(frame_id)\n\u001b[1;32m   1159\u001b[0m \u001b[38;5;28;01mwith\u001b[39;00m \u001b[38;5;28mself\u001b[39m\u001b[38;5;241m.\u001b[39m_threads_suspended_single_notification\u001b[38;5;241m.\u001b[39mnotify_thread_suspended(thread_id, stop_reason):\n\u001b[0;32m-> 1160\u001b[0m     \u001b[38;5;28;43mself\u001b[39;49m\u001b[38;5;241;43m.\u001b[39;49m\u001b[43m_do_wait_suspend\u001b[49m\u001b[43m(\u001b[49m\u001b[43mthread\u001b[49m\u001b[43m,\u001b[49m\u001b[43m \u001b[49m\u001b[43mframe\u001b[49m\u001b[43m,\u001b[49m\u001b[43m \u001b[49m\u001b[43mevent\u001b[49m\u001b[43m,\u001b[49m\u001b[43m \u001b[49m\u001b[43marg\u001b[49m\u001b[43m,\u001b[49m\u001b[43m \u001b[49m\u001b[43msuspend_type\u001b[49m\u001b[43m,\u001b[49m\u001b[43m \u001b[49m\u001b[43mfrom_this_thread\u001b[49m\u001b[43m)\u001b[49m\n",
      "File \u001b[0;32m/Applications/PyCharm.app/Contents/plugins/python/helpers/pydev/pydevd.py:1175\u001b[0m, in \u001b[0;36mPyDB._do_wait_suspend\u001b[0;34m(self, thread, frame, event, arg, suspend_type, from_this_thread)\u001b[0m\n\u001b[1;32m   1172\u001b[0m             \u001b[38;5;28mself\u001b[39m\u001b[38;5;241m.\u001b[39m_call_mpl_hook()\n\u001b[1;32m   1174\u001b[0m         \u001b[38;5;28mself\u001b[39m\u001b[38;5;241m.\u001b[39mprocess_internal_commands()\n\u001b[0;32m-> 1175\u001b[0m         \u001b[43mtime\u001b[49m\u001b[38;5;241;43m.\u001b[39;49m\u001b[43msleep\u001b[49m\u001b[43m(\u001b[49m\u001b[38;5;241;43m0.01\u001b[39;49m\u001b[43m)\u001b[49m\n\u001b[1;32m   1177\u001b[0m \u001b[38;5;28mself\u001b[39m\u001b[38;5;241m.\u001b[39mcancel_async_evaluation(get_current_thread_id(thread), \u001b[38;5;28mstr\u001b[39m(\u001b[38;5;28mid\u001b[39m(frame)))\n\u001b[1;32m   1179\u001b[0m \u001b[38;5;66;03m# process any stepping instructions\u001b[39;00m\n",
      "\u001b[0;31mKeyboardInterrupt\u001b[0m: "
     ]
    }
   ],
   "source": [
    "def get_total_greedy_cycle_cost(data: pd.DataFrame, dm: np.array, start_node_idx: int = None,) -> int:\n",
    "    data_indexes = data.index.to_list()\n",
    "    cost = 0\n",
    "\n",
    "    if start_node_idx is None:\n",
    "        start_node_idx = random.choice(data_indexes)\n",
    "\n",
    "    node = data_indexes[start_node_idx]\n",
    "    next_node = dm[node].argmin()\n",
    "\n",
    "    data_indexes.remove(node)\n",
    "    data_indexes.remove(next_node)\n",
    "\n",
    "    edge1 = str(node) + '_' + str(next_node)\n",
    "    edge2 = str(next_node) + '_' + str(node)\n",
    "    cycle = [(edge1, dm[node].min()), (edge2, dm[node].min())]\n",
    "\n",
    "    while len(cycle) < 10:\n",
    "\n",
    "        min_dist = 100000\n",
    "        new_edge1 = None\n",
    "        new_edge2 = None\n",
    "        bad_edge = None\n",
    "        new_node = None\n",
    "\n",
    "        for edge, dist in cycle:\n",
    "            old_node1, old_node2 = [int(i) for i in edge.split('_')]\n",
    "            for node in data_indexes:\n",
    "                edge1 = str(old_node1) + '_' + str(node)\n",
    "                edge2 = str(node) + '_' + str(old_node2)\n",
    "                change = dm[old_node1][node] + dm[old_node2][node] - dist\n",
    "\n",
    "                if change < min_dist:\n",
    "                    min_dist = change\n",
    "                    new_edge1 = (edge1, dm[old_node1][node])\n",
    "                    new_edge2 = (edge2, dm[old_node2][node])\n",
    "                    bad_edge = (edge, dist)\n",
    "                    new_node = node\n",
    "\n",
    "        cycle.remove(bad_edge)\n",
    "        cycle.append(new_edge1)\n",
    "        cycle.append(new_edge2)\n",
    "        data_indexes.remove(new_node)\n",
    "\n",
    "    cost = sum([x[1] for x in cycle])\n",
    "\n",
    "    return cost, cycle\n",
    "# dm = generate_dm(tsp_a, False)\n",
    "cost, cycle = get_total_greedy_cycle_cost(test_data, test_dm, 0)\n",
    "cost"
   ]
  },
  {
   "cell_type": "markdown",
   "id": "d1434720",
   "metadata": {
    "pycharm": {
     "name": "#%% md\n"
    }
   },
   "source": []
  }
 ],
 "metadata": {
  "kernelspec": {
   "display_name": "Python 3 (ipykernel)",
   "language": "python",
   "name": "python3"
  },
  "language_info": {
   "codemirror_mode": {
    "name": "ipython",
    "version": 3
   },
   "file_extension": ".py",
   "mimetype": "text/x-python",
   "name": "python",
   "nbconvert_exporter": "python",
   "pygments_lexer": "ipython3",
   "version": "3.9.7"
  },
  "toc": {
   "base_numbering": 1,
   "nav_menu": {},
   "number_sections": true,
   "sideBar": true,
   "skip_h1_title": false,
   "title_cell": "Table of Contents",
   "title_sidebar": "Contents",
   "toc_cell": false,
   "toc_position": {},
   "toc_section_display": true,
   "toc_window_display": false
  }
 },
 "nbformat": 4,
 "nbformat_minor": 5
}
