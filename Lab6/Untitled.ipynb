{
 "cells": [
  {
   "cell_type": "code",
   "execution_count": 26,
   "id": "744a5894",
   "metadata": {},
   "outputs": [],
   "source": [
    "import pandas as pd\n",
    "import random \n",
    "import numpy as np\n",
    "from scipy.spatial import distance_matrix\n",
    "import time\n",
    "import warnings\n",
    "from tqdm import tqdm \n",
    "import itertools\n",
    "warnings.filterwarnings('ignore')"
   ]
  },
  {
   "cell_type": "code",
   "execution_count": 27,
   "id": "4cd694ec",
   "metadata": {},
   "outputs": [],
   "source": [
    "tsp_c = pd.read_csv(\"TSPC.csv\", sep=';', header=None)\n",
    "tsp_d = pd.read_csv(\"TSPD.csv\", sep=';', header=None)"
   ]
  },
  {
   "cell_type": "code",
   "execution_count": 28,
   "id": "8d70742e",
   "metadata": {},
   "outputs": [],
   "source": [
    "def get_random_solution():\n",
    "    return random.sample([i for i in range(0, 200)], 100)\n",
    "\n",
    "def calulate_total_cost(path):\n",
    "    total = 0\n",
    "    nr = len(path)\n",
    "    for idx, node in enumerate(path):\n",
    "        total += dm[node][path[(idx+1)%nr]]\n",
    "    return total\n",
    "\n",
    "def generate_dm(df, show=True):\n",
    "    temp = df[[0, 1]].to_numpy()\n",
    "    dm = distance_matrix(temp, temp)\n",
    "\n",
    "\n",
    "    temp = df[2].to_numpy() // 2\n",
    "    temp = temp * np.ones((200, 200))\n",
    "    dm = dm+temp+temp.T\n",
    "    dm = dm // 1\n",
    "\n",
    "    for i in range(200):\n",
    "        dm[i][i] = np.inf\n",
    "    \n",
    "    if show: \n",
    "        df_dist = pd.DataFrame(dm)\n",
    "        display(df_dist)\n",
    "    return dm"
   ]
  },
  {
   "cell_type": "code",
   "execution_count": 29,
   "id": "21787f97",
   "metadata": {},
   "outputs": [],
   "source": [
    "def gen_node_exchange_moves(path):\n",
    "    not_selected = list(set([i for i in range(200)]) - set(path))\n",
    "    node_moves = []\n",
    "    for idx, node in enumerate(path):\n",
    "        for new_node in not_selected:\n",
    "            new_cost = dm[path[idx-1]][new_node] + dm[path[(idx+1)%100]][new_node] # two new edges\n",
    "            new_cost -= (dm[path[idx-1]][node] + dm[path[(idx+1)%100]][node]) #\n",
    "            node_moves.append((new_cost, 'n', idx, new_node)) #cost, type, idx of old move, new_node\n",
    "    return node_moves"
   ]
  },
  {
   "cell_type": "code",
   "execution_count": 30,
   "id": "ddb7ab8e",
   "metadata": {},
   "outputs": [],
   "source": [
    "def gen_edge_exchange_moves(path):\n",
    "    edge_moves = []\n",
    "    for idx1, idx2 in all_posibble_comb:\n",
    "        if (idx2+1)%100 != idx1:\n",
    "            new_cost = dm[path[idx1]][path[(idx2+1)%100]] + dm[path[idx1-1]][path[idx2]] #new edges\n",
    "            new_cost -= (dm[path[idx1-1]][path[idx1]] + dm[path[idx2]][path[(idx2+1)%100]]) #old edges\n",
    "            edge_moves.append((new_cost, 'e', idx1, idx2))\n",
    "    return edge_moves"
   ]
  },
  {
   "cell_type": "code",
   "execution_count": 31,
   "id": "999a4d65",
   "metadata": {},
   "outputs": [
    {
     "name": "stdout",
     "output_type": "stream",
     "text": [
      "225877.0\n",
      "51350.0\n",
      "5.3437347412109375\n"
     ]
    }
   ],
   "source": [
    "dm = generate_dm(tsp_c, False)\n",
    "all_posibble_comb = list(itertools.combinations([i for i in range(100)], 2))\n",
    "\n",
    "path = get_random_solution()\n",
    "print(calulate_total_cost(path))\n",
    "s = time.time()\n",
    "run = True\n",
    "while run:\n",
    "    run = False\n",
    "    moves = gen_edge_exchange_moves(path) + gen_node_exchange_moves(path)\n",
    "    moves.sort(key=lambda x:x[0])\n",
    "    best_move = moves[0]\n",
    "    if best_move[0] < 0:\n",
    "        if best_move[1] == 'n':\n",
    "            idx = best_move[2]\n",
    "            new_node = best_move[3]\n",
    "            path[idx] = new_node\n",
    "            run = True\n",
    "        else:\n",
    "            idx1 = best_move[2]\n",
    "            idx2 = best_move[3]\n",
    "            path = path[:idx1] + path[idx1:idx2+1][::-1] + path[idx2+1:]\n",
    "            run = True\n",
    "        \n",
    "            \n",
    "    \n",
    "    \n",
    "print(calulate_total_cost(path))\n",
    "print(time.time() - s)"
   ]
  },
  {
   "cell_type": "code",
   "execution_count": null,
   "id": "a91ed43a",
   "metadata": {},
   "outputs": [],
   "source": []
  }
 ],
 "metadata": {
  "kernelspec": {
   "display_name": "train",
   "language": "python",
   "name": "train"
  },
  "language_info": {
   "codemirror_mode": {
    "name": "ipython",
    "version": 3
   },
   "file_extension": ".py",
   "mimetype": "text/x-python",
   "name": "python",
   "nbconvert_exporter": "python",
   "pygments_lexer": "ipython3",
   "version": "3.9.12"
  }
 },
 "nbformat": 4,
 "nbformat_minor": 5
}
