{
 "cells": [
  {
   "cell_type": "code",
   "execution_count": 1,
   "id": "145b9849",
   "metadata": {
    "ExecuteTime": {
     "end_time": "2022-11-27T13:28:34.958789Z",
     "start_time": "2022-11-27T13:28:33.744525Z"
    }
   },
   "outputs": [],
   "source": [
    "import pandas as pd\n",
    "import random\n",
    "import numpy as np\n",
    "from scipy.spatial import distance_matrix\n",
    "import itertools"
   ]
  },
  {
   "cell_type": "code",
   "execution_count": 2,
   "id": "486fa2b3",
   "metadata": {
    "ExecuteTime": {
     "end_time": "2022-11-27T13:28:34.974815Z",
     "start_time": "2022-11-27T13:28:34.959788Z"
    }
   },
   "outputs": [],
   "source": [
    "def generate_dm(df, show=True):\n",
    "    temp = df[[0, 1]].to_numpy()\n",
    "    dm = distance_matrix(temp, temp)\n",
    "\n",
    "    temp = df[2].to_numpy() // 2\n",
    "    temp = temp * np.ones((200, 200))\n",
    "    dm = dm + temp + temp.T\n",
    "    dm = dm // 1\n",
    "\n",
    "    for i in range(200):\n",
    "        dm[i][i] = np.inf\n",
    "\n",
    "    if show:\n",
    "        df_dist = pd.DataFrame(dm)\n",
    "        # display(df_dist)\n",
    "    return dm\n",
    "\n",
    "\n",
    "def get_random_solution():\n",
    "    return random.sample([i for i in range(0, 200)], 100)\n",
    "\n",
    "\n",
    "def calulate_total_cost(path, dm):\n",
    "    total = 0\n",
    "    nr = len(path)\n",
    "    for idx, node in enumerate(path):\n",
    "        total += dm[node][path[(idx + 1) % nr]]\n",
    "    return total"
   ]
  },
  {
   "cell_type": "code",
   "execution_count": 87,
   "id": "cadb426f",
   "metadata": {
    "ExecuteTime": {
     "end_time": "2022-11-27T14:06:59.196260Z",
     "start_time": "2022-11-27T14:06:59.176225Z"
    }
   },
   "outputs": [],
   "source": [
    "def generate_all_moves(path, LM, dm):\n",
    "    new_nodes = list(set([i for i in range(0, 200)]) - set(path))\n",
    "    \n",
    "    #inter\n",
    "    for idx, node in enumerate(path):\n",
    "        for new_node in new_nodes:\n",
    "            new_cost = dm[path[idx-1]][new_node] + dm[path[(idx+1)%100]][new_node]\n",
    "            new_cost -= (dm[path[idx-1]][node] + dm[path[(idx+1)%100]][node])\n",
    "            if new_cost < 0:\n",
    "                old_move = [path[idx-1], path[idx], path[(idx+1)%100]]\n",
    "                new_move = [path[idx-1], new_node, path[(idx+1)%100]]\n",
    "                LM.append([new_cost, 'node', [old_move, new_move]])\n",
    "    #intra\n",
    "    for idx1, idx2 in all_posibble_comb:\n",
    "        edge1, edge2 = [path[idx1], path[(idx1+1)%100]], [path[idx2], path[(idx2+1)%100]]\n",
    "        if not(edge1[0] in edge2 or edge1[1] in edge2):\n",
    "            new_cost = dm[edge1[0]][edge2[0]] + dm[edge1[1]][edge2[1]] \n",
    "            new_cost -= (dm[edge1[0]][edge1[1]] + dm[edge2[0]][edge2[1]])\n",
    "            if new_cost < 0:\n",
    "                LM.append([new_cost, 'edge_after', [edge1, edge2]])\n",
    "        \n",
    "        \n",
    "    \n",
    "    \n",
    "    return LM"
   ]
  },
  {
   "cell_type": "code",
   "execution_count": 92,
   "id": "f421b222",
   "metadata": {
    "ExecuteTime": {
     "end_time": "2022-11-27T14:07:13.078134Z",
     "start_time": "2022-11-27T14:07:13.064166Z"
    }
   },
   "outputs": [],
   "source": [
    "def check_move(path, move, typ):\n",
    "    if typ == 'node':\n",
    "        if move[0][1] in path and move[1][1] not in path: #if old nodes are in same order in path, and new node not in path\n",
    "            pos0 = path.index(move[0][1])\n",
    "            if path[pos0-1] == move[0][0] and path[(pos0+1)%100] == move[0][2]:\n",
    "                return True, True\n",
    "            if path[(pos0+1)%100] == move[0][0] and path[pos0-1] == move[0][2]:\n",
    "                return True, True \n",
    "        \n",
    "    elif typ ==  'edge_after':\n",
    "        edge1 = move[0]\n",
    "        edge2 = move[1]\n",
    "\n",
    "        if edge1[0] in path and edge1[1] in path and edge2[0] in path and edge2[1] in path:\n",
    "            n1, n2, x1, x2 = path.index(edge1[0]), path.index(edge1[1]), path.index(edge2[0]), path.index(edge2[1])\n",
    "#             print('a', n1, n2, x1, x2)\n",
    "            if (n2-n1 == 1 and x2-x1 == 1) or (n2-n1 == -1 and x2-x1 == -1):\n",
    "                return True, True\n",
    "            if (n2-n1 == -1 and x2-x1 == 1) or (n2-n1 == 1 and x2-x1 == -1):\n",
    "                return False, True\n",
    "    else:\n",
    "#         print('d', move)\n",
    "        edge1 = move[0]\n",
    "        edge2 = move[1]\n",
    "\n",
    "        if edge1[0] in path and edge1[1] in path and edge2[0] in path and edge2[1] in path:\n",
    "            n1, n2, x1, x2 = path.index(edge1[0]), path.index(edge1[1]), path.index(edge2[0]), path.index(edge2[1])\n",
    "#             print('b', n1, n2, x1, x2)\n",
    "            if (n1-n2 == 1 and x1-x2 == 1) or (n1-n2 == -1 and x1-x2 == -1):\n",
    "                return True, True\n",
    "            if (n1-n2 == -1 and x1-x2 == 1) or (n1-n2 == 1 and x1-x2 == -1):\n",
    "                return False, True\n",
    "            \n",
    "    return False, False\n"
   ]
  },
  {
   "cell_type": "code",
   "execution_count": 93,
   "id": "0898405c",
   "metadata": {
    "ExecuteTime": {
     "end_time": "2022-11-27T14:07:13.544648Z",
     "start_time": "2022-11-27T14:07:13.534680Z"
    }
   },
   "outputs": [],
   "source": [
    "def new_moves_node(path, change_node_index, LM):\n",
    "    new_nodes = list(set([i for i in range(0, 200)]) - set(path))\n",
    "    for new_node in new_nodes:\n",
    "        new_cost = dm[path[change_node_index-1]][new_node] + dm[path[(change_node_index+1)%100]][new_node]\n",
    "        new_cost -= (dm[path[change_node_index-1]][path[change_node_index]] + dm[path[(change_node_index+1)%100]][path[change_node_index]])\n",
    "#         print(\"new cost\", new_cost)\n",
    "        if new_cost < 0:\n",
    "            old_move = [path[change_node_index-1], path[change_node_index], path[(change_node_index+1)%100]]\n",
    "            new_move = [path[change_node_index-1], new_node, path[(change_node_index+1)%100]]\n",
    "            LM.append([new_cost, 'node', [old_move, new_move]])\n",
    "    return LM"
   ]
  },
  {
   "cell_type": "code",
   "execution_count": 94,
   "id": "3b63d209",
   "metadata": {
    "ExecuteTime": {
     "end_time": "2022-11-27T14:07:13.920471Z",
     "start_time": "2022-11-27T14:07:13.902926Z"
    }
   },
   "outputs": [],
   "source": [
    "def new_moves_edge_exchange(path, change_node_index, LM):\n",
    "    for idx in range(len(path)):\n",
    "        if idx != change_node_index:\n",
    "            if idx > change_node_index:\n",
    "                idx, change_node_index = change_node_index, idx\n",
    "                \n",
    "            edge1, edge2 = [path[idx], path[(idx+1)%100]], [path[change_node_index], path[(change_node_index+1)%100]]\n",
    "            if not(edge1[0] in edge2 or edge1[1] in edge2):\n",
    "                new_cost = dm[edge1[0]][edge2[0]] + dm[edge1[1]][edge2[1]] \n",
    "                new_cost -= (dm[edge1[0]][edge1[1]] + dm[edge2[0]][edge2[1]])\n",
    "                if new_cost < 0:\n",
    "                    LM.append([new_cost, 'edge_after', [edge1, edge2]])\n",
    "            edge1, edge2 = [path[idx], path[idx-1]], [path[change_node_index], path[change_node_index-1]]\n",
    "            if not(edge1[0] in edge2 or edge1[1] in edge2):\n",
    "                new_cost = dm[edge1[0]][edge2[0]] + dm[edge1[1]][edge2[1]] \n",
    "                new_cost -= (dm[edge1[0]][edge1[1]] + dm[edge2[0]][edge2[1]])\n",
    "                if new_cost < 0:\n",
    "                    LM.append([new_cost, 'edge_before', [edge1, edge2]])\n",
    "    return LM\n",
    "#     pass\n"
   ]
  },
  {
   "cell_type": "code",
   "execution_count": 173,
   "id": "cff5e924",
   "metadata": {
    "ExecuteTime": {
     "end_time": "2022-11-27T14:09:28.386092Z",
     "start_time": "2022-11-27T14:09:28.134920Z"
    }
   },
   "outputs": [
    {
     "data": {
      "text/plain": [
       "(67419.0, 100)"
      ]
     },
     "execution_count": 173,
     "metadata": {},
     "output_type": "execute_result"
    }
   ],
   "source": [
    "def a(path):\n",
    "    LM = []\n",
    "    LM = generate_all_moves(path, [], dm)\n",
    "    # print(calulate_total_cost(path, dm))\n",
    "    change = True\n",
    "    i = 500\n",
    "    while change:\n",
    "\n",
    "        to_delete = []\n",
    "        change = False\n",
    "#         print('LM', len(LM))\n",
    "        LM.sort(key=lambda x: x[0])\n",
    "        if LM[0][0] > 0:\n",
    "            break\n",
    "\n",
    "        for cost_typ_move in LM:\n",
    "\n",
    "            cost, typ, move = cost_typ_move\n",
    "            good, keep = check_move(path, move, typ)\n",
    "            if good:\n",
    "                if typ == 'node':\n",
    "                    idx = path.index(move[0][1])\n",
    "                    path[idx] = move[1][1]\n",
    "                    change = True\n",
    "                    LM = new_moves_edge_exchange(path, idx, LM)\n",
    "                    to_delete.append(cost_typ_move)\n",
    "#                     print(typ, cost, calulate_total_cost(path, dm))   \n",
    "                    break\n",
    "                elif typ =='edge_after':\n",
    "                    edge1, edge2 = move\n",
    "                    n1, n2, x1, x2 = path.index(edge1[0]), path.index(edge1[1]), path.index(edge2[0]), path.index(edge2[1])\n",
    "                    if n1 > x1:\n",
    "                        n1, x1 = x1, n1 \n",
    "                    path[n1: x1+1] = path[n1: x1+1][::-1]\n",
    "                    change = True\n",
    "                    LM = new_moves_node(path, n1, LM)\n",
    "                    LM = new_moves_node(path, x1, LM)\n",
    "\n",
    "#                     print(typ, cost, calulate_total_cost(path, dm))\n",
    "                    to_delete.append(cost_typ_move)\n",
    "                    break\n",
    "                else:\n",
    "                    edge1, edge2 = move\n",
    "                    n1, n2, x1, x2 = path.index(edge1[0]), path.index(edge1[1]), path.index(edge2[0]), path.index(edge2[1])\n",
    "                    if n1 > x1:\n",
    "                        n1, x1 = x1, n1 \n",
    "                    path[n1: x1] = path[n1: x1][::-1]\n",
    "                    change = True\n",
    "                    LM = new_moves_node(path, n1, LM)\n",
    "                    LM = new_moves_node(path, x1, LM)\n",
    "\n",
    "#                     print(typ, cost, calulate_total_cost(path, dm))\n",
    "                    to_delete.append(cost_typ_move)\n",
    "                    break\n",
    "\n",
    "\n",
    "            if not keep:\n",
    "                to_delete.append(cost_typ_move)\n",
    "\n",
    "        for cost_typ_move in to_delete:\n",
    "            LM.remove(cost_typ_move)\n",
    "        i+=1\n",
    "        if i == 500: \n",
    "            break\n",
    "#     print(i)\n",
    "\n",
    "    return calulate_total_cost(path, dm), path      \n",
    "path = get_random_solution()\n",
    "w = a(path)\n",
    "w[0], len(w[1])"
   ]
  },
  {
   "cell_type": "code",
   "execution_count": 174,
   "id": "47d1022b",
   "metadata": {
    "ExecuteTime": {
     "end_time": "2022-11-27T14:09:30.008851Z",
     "start_time": "2022-11-27T14:09:29.990821Z"
    }
   },
   "outputs": [],
   "source": [
    "from tqdm import tqdm"
   ]
  },
  {
   "cell_type": "code",
   "execution_count": 175,
   "id": "33c354d7",
   "metadata": {
    "ExecuteTime": {
     "end_time": "2022-11-27T14:10:11.044058Z",
     "start_time": "2022-11-27T14:09:30.262802Z"
    }
   },
   "outputs": [
    {
     "name": "stderr",
     "output_type": "stream",
     "text": [
      "100%|████████████████████████████████████████████████████████████████████████████████| 200/200 [00:40<00:00,  4.91it/s]\n"
     ]
    }
   ],
   "source": [
    "all_posibble_comb = list(itertools.combinations([i for i in range(100)], 2))\n",
    "tsp = pd.read_csv('TSPC.csv', sep=';', header=None)\n",
    "dm = generate_dm(tsp)\n",
    "costs = []\n",
    "paths = []\n",
    "for i in tqdm(range(200)):\n",
    "    path = get_random_solution()\n",
    "    cost, path = a(path)\n",
    "    costs.append(cost)\n",
    "    paths.append(path)"
   ]
  },
  {
   "cell_type": "code",
   "execution_count": 178,
   "id": "d655ce23",
   "metadata": {
    "ExecuteTime": {
     "end_time": "2022-11-27T14:10:37.584765Z",
     "start_time": "2022-11-27T14:10:37.565764Z"
    }
   },
   "outputs": [
    {
     "data": {
      "text/plain": [
       "67106.555"
      ]
     },
     "execution_count": 178,
     "metadata": {},
     "output_type": "execute_result"
    }
   ],
   "source": [
    "np.array(costs).mean()\n",
    "# import copy\n",
    "# path2 = copy.deepcopy(path)\n",
    "# path2[idx1:idx2+1] = path2[idx1:idx2+1][::-1]\n",
    "# path == path2"
   ]
  }
 ],
 "metadata": {
  "kernelspec": {
   "display_name": "NLP",
   "language": "python",
   "name": "nlp"
  },
  "language_info": {
   "codemirror_mode": {
    "name": "ipython",
    "version": 3
   },
   "file_extension": ".py",
   "mimetype": "text/x-python",
   "name": "python",
   "nbconvert_exporter": "python",
   "pygments_lexer": "ipython3",
   "version": "3.9.7"
  },
  "toc": {
   "base_numbering": 1,
   "nav_menu": {},
   "number_sections": true,
   "sideBar": true,
   "skip_h1_title": false,
   "title_cell": "Table of Contents",
   "title_sidebar": "Contents",
   "toc_cell": false,
   "toc_position": {},
   "toc_section_display": true,
   "toc_window_display": false
  }
 },
 "nbformat": 4,
 "nbformat_minor": 5
}
